{
 "cells": [
  {
   "cell_type": "code",
   "execution_count": 10,
   "id": "8027c167",
   "metadata": {},
   "outputs": [
    {
     "data": {
      "text/plain": [
       "1"
      ]
     },
     "execution_count": 10,
     "metadata": {},
     "output_type": "execute_result"
    }
   ],
   "source": [
    "def minimumCost(s: str) -> int:     # The function call is minimumCost(s = '00111')\n",
    "    ans = 0\n",
    "    for i in range(1, len(s)):\n",
    "        if s[i - 1] != s[i]:\n",
    "            ans += min(i, len(s) - i)\n",
    "    return ans\n",
    "\n",
    "minimumCost(s = '001')"
   ]
  }
 ],
 "metadata": {
  "kernelspec": {
   "display_name": "bigcodeinstruct",
   "language": "python",
   "name": "python3"
  },
  "language_info": {
   "codemirror_mode": {
    "name": "ipython",
    "version": 3
   },
   "file_extension": ".py",
   "mimetype": "text/x-python",
   "name": "python",
   "nbconvert_exporter": "python",
   "pygments_lexer": "ipython3",
   "version": "3.10.15"
  }
 },
 "nbformat": 4,
 "nbformat_minor": 5
}
